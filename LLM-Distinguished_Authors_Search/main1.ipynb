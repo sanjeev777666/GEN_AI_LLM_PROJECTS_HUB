{
 "cells": [
  {
   "cell_type": "code",
   "execution_count": 4,
   "metadata": {},
   "outputs": [
    {
     "name": "stderr",
     "output_type": "stream",
     "text": [
      "C:\\Users\\SANJEEV\\AppData\\Roaming\\Python\\Python311\\site-packages\\tqdm\\auto.py:21: TqdmWarning: IProgress not found. Please update jupyter and ipywidgets. See https://ipywidgets.readthedocs.io/en/stable/user_install.html\n",
      "  from .autonotebook import tqdm as notebook_tqdm\n"
     ]
    }
   ],
   "source": [
    "import os\n",
    "import sys  \n",
    "from constants import openai_api_key,google_api_key\n",
    "from langchain.llms import OpenAI\n",
    "from langchain import PromptTemplate  \n",
    "from langchain_google_genai import ChatGoogleGenerativeAI \n",
    "import streamlit as st\n"
   ]
  },
  {
   "cell_type": "code",
   "execution_count": 6,
   "metadata": {},
   "outputs": [],
   "source": [
    "\n",
    "os.environ[\"OPENAI_API_KEY\"]=openai_api_key\n",
    "\n",
    "st.title(\"LANG CHAIN _INITIATION\")\n",
    "INPUT_TXT=st.text_input(\"EMBARK Searching Over Fascinating Topic of Your Choice\")\n",
    "\n",
    "\n",
    "llm1=OpenAI(temperature=0.8)\n",
    "if(INPUT_TXT):\n",
    "    st.write(llm1(INPUT_TXT))\n",
    "    \n",
    "\n",
    "\n",
    "# If there is no env variable set for API key, you can pass the API key\n",
    "# to the parameter `google_api_key` of the `ChatGoogleGenerativeAI` function:\n",
    "# `google_api_key=\"key\"`.\n",
    "# st.subheader(\"GEMINI CHAIN _INITIATION\")\n",
    "# INPUT_TXT2=st.text_input(\"continue Searching Over Fascinating Topic of Your Choice\")\n",
    "\n",
    "# os.environ['GOOGLE_API_KEY'] = google_api_key\n",
    "# llm2 = ChatGoogleGenerativeAI(model=\"gemini-pro\",\n",
    "#                  temperature=0.7, top_p=0.85)\n",
    "# if(INPUT_TXT2):\n",
    "  \n",
    "#     st.write(llm2([INPUT_TXT2])) \n",
    " \n",
    "\n",
    "st.title(\"LANG CHAIN _INITIATION\")\n",
    "INPUT_TXT=st.text_input(\"EMBARK Searching Over Fascinating Topic of Your Choice\")\n",
    "\n",
    "\n",
    "llm1=OpenAI(temperature=0.8)\n",
    "if(INPUT_TXT):\n",
    "    st.write(llm1(INPUT_TXT))\n",
    "    \n",
    "\n",
    "\n",
    "# If there is no env variable set for API key, you can pass the API key\n",
    "# to the parameter `google_api_key` of the `ChatGoogleGenerativeAI` function:\n",
    "# `google_api_key=\"key\"`.\n",
    "# st.subheader(\"GEMINI CHAIN _INITIATION\")\n",
    "# INPUT_TXT2=st.text_input(\"continue Searching Over Fascinating Topic of Your Choice\")\n",
    "\n",
    "# os.environ['GOOGLE_API_KEY'] = google_api_key\n",
    "# llm2 = ChatGoogleGenerativeAI(model=\"gemini-pro\",\n",
    "#                  temperature=0.7, top_p=0.85)\n",
    "# if(INPUT_TXT2):\n",
    "  \n",
    "#     st.write(llm2([INPUT_TXT2])) \n"
   ]
  },
  {
   "cell_type": "code",
   "execution_count": null,
   "metadata": {},
   "outputs": [],
   "source": []
  }
 ],
 "metadata": {
  "kernelspec": {
   "display_name": "Python 3",
   "language": "python",
   "name": "python3"
  },
  "language_info": {
   "codemirror_mode": {
    "name": "ipython",
    "version": 3
   },
   "file_extension": ".py",
   "mimetype": "text/x-python",
   "name": "python",
   "nbconvert_exporter": "python",
   "pygments_lexer": "ipython3",
   "version": "3.11.9"
  }
 },
 "nbformat": 4,
 "nbformat_minor": 2
}
