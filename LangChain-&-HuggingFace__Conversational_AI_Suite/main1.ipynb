{
 "cells": [
  {
   "cell_type": "markdown",
   "metadata": {},
   "source": [
    "## **AI CONVERSATIONAL ASSISTANT USING OPENAI & HUGGINGFACE**"
   ]
  },
  {
   "cell_type": "markdown",
   "metadata": {},
   "source": [
    "NOTE: \n",
    "- INSTALL HUGGING FACE CLI & LOGIN USING YOUR ENVIRONMENT TOKEN IN CMD PROMPT TO RUN THE MODEL ELSE, incase where THE MODEL FAILS TO LOAD  THOUGH TOKEN IS PROVIDED AS PARAMETER IN THE environment variable\n",
    "- ENSURE use OF Appropriate model that supports chatmodels inoking schema(i.e rpo-id from hugging face which supports the (Does Gemma-1.1 not support{\"role\": \"system\", \"content\": system_prompt}) for implementing chain.invoe？)\n",
    " - refer :https://huggingface.co/docs/huggingface_hub/en/guides/cli"
   ]
  },
  {
   "cell_type": "code",
   "execution_count": 1,
   "metadata": {},
   "outputs": [],
   "source": [
    "import sys, os"
   ]
  },
  {
   "cell_type": "code",
   "execution_count": 2,
   "metadata": {},
   "outputs": [],
   "source": [
    "import tqdm as notebook_tqdm"
   ]
  },
  {
   "cell_type": "code",
   "execution_count": 3,
   "metadata": {},
   "outputs": [],
   "source": [
    "import constant_2"
   ]
  },
  {
   "cell_type": "code",
   "execution_count": 4,
   "metadata": {},
   "outputs": [],
   "source": [
    "from langchain.llms import OpenAI\n",
    "from langchain.prompts import PromptTemplate\n",
    "# from langchain import HuggingFaceHub\n",
    "from langchain.chains import LLMChain,SimpleSequentialChain,SequentialChain\n",
    "from langchain_community.llms import HuggingFaceHub"
   ]
  },
  {
   "cell_type": "code",
   "execution_count": 5,
   "metadata": {},
   "outputs": [],
   "source": [
    "os.environ[\"OPENAI_API_KEY\"] = constant_2.openai_api_key"
   ]
  },
  {
   "cell_type": "code",
   "execution_count": 6,
   "metadata": {},
   "outputs": [],
   "source": [
    "os.environ[\"HUGGINGFACEHUB_API_TOKEN\"]=constant_2.hugging_face_api_key_1"
   ]
  },
  {
   "cell_type": "markdown",
   "metadata": {},
   "source": [
    "#### 1. IMPLEMENT USING OPENAI"
   ]
  },
  {
   "cell_type": "code",
   "execution_count": null,
   "metadata": {},
   "outputs": [],
   "source": [
    "llm1=OpenAI(api_key=constant_2.openai_api_key,temperature=0.7)"
   ]
  },
  {
   "cell_type": "code",
   "execution_count": null,
   "metadata": {},
   "outputs": [],
   "source": [
    "text=\"capital of Australia \"\n",
    "try:\n",
    "    llm1.predict(text)\n",
    "except Exception as e:\n",
    "    print(\"eceeded quota\")"
   ]
  },
  {
   "cell_type": "markdown",
   "metadata": {},
   "source": [
    "#### 2. IMPLEMENT USING UGGING_FACE_HUB"
   ]
  },
  {
   "cell_type": "code",
   "execution_count": 43,
   "metadata": {},
   "outputs": [],
   "source": [
    "llm2_HF=HuggingFaceHub(repo_id=\"google/gemma-1.1-2b-it\",huggingfacehub_api_token=os.environ[\"HUGGINGFACEHUB_API_TOKEN\"] ,model_kwargs={\"temperature\":0.7,\"max_new_tokens\":128})"
   ]
  },
  {
   "cell_type": "markdown",
   "metadata": {},
   "source": []
  },
  {
   "cell_type": "code",
   "execution_count": 133,
   "metadata": {},
   "outputs": [
    {
     "data": {
      "text/plain": [
       "' superstar of tamil film fraternity ?\\n\\na) Rajinikanth\\nb) Kamal Haasan\\nc'"
      ]
     },
     "execution_count": 133,
     "metadata": {},
     "output_type": "execute_result"
    }
   ],
   "source": [
    "output_predicted=llm2_HF.predict(\" superstar of tamil film fraternity ?\")\n",
    "output_predicted"
   ]
  },
  {
   "cell_type": "markdown",
   "metadata": {},
   "source": [
    "#### 3. IMPLEMENT PROMPT_TEMPLATE"
   ]
  },
  {
   "cell_type": "code",
   "execution_count": 192,
   "metadata": {},
   "outputs": [],
   "source": [
    "\"\"\"CONSTRUCT PERSONALIZED CUSTOM PROMPTS USING PROMPT_TEMPLATE \"\"\"\n",
    "first_prompt=\"Native of famous personality {text1} \"\n",
    "llm3_prompt=PromptTemplate(input_variables=[\"text1\"],template=first_prompt)\n",
    "\n",
    "\"\"\"EXECUTE PROMPT_TEMPLATE USING LLM CHAINS\"\"\"\n",
    "llm_chain1=LLMChain(prompt=llm3_prompt,llm=llm2_HF,verbose=True)\n"
   ]
  },
  {
   "cell_type": "code",
   "execution_count": 167,
   "metadata": {},
   "outputs": [
    {
     "name": "stdout",
     "output_type": "stream",
     "text": [
      "\n",
      "\n",
      "\u001b[1m> Entering new LLMChain chain...\u001b[0m\n",
      "Prompt after formatting:\n",
      "\u001b[32;1m\u001b[1;3mprovide brief overview of famous personality abdul kalaam\u001b[0m\n",
      "\n",
      "\u001b[1m> Finished chain.\u001b[0m\n",
      "provide brief overview of famous personality abdul kalaam's life.\n",
      "\n",
      "Abdul Kalam was an Indian physicist and aerospace engineer renowned for his significant contributions to the development of the Satya Satellite. He was also a professor, researcher, and mentor, leaving an indelible mark on the fields of physics, space exploration, and education.\n",
      "\n",
      "**Early Life:**\n",
      "\n",
      "- Born in 1931 in Punjab, India.\n",
      "- Demonstrated early aptitude for science and mathematics.\n",
      "- Received his B.Sc. and M.Sc. degrees from Punjab University.\n",
      "\n",
      "**Professional Career:**\n",
      "\n",
      "- Worked as a research scientist at the Indian Institute of Technology, Mumbai.\n",
      "- Made significant\n"
     ]
    }
   ],
   "source": [
    "object_predicted1=llm_chain1.run(text=input(\"confine your search with famous personality \"))\n",
    "# object_predicted\n",
    "print(object_predicted1)"
   ]
  },
  {
   "cell_type": "markdown",
   "metadata": {},
   "source": [
    "#### 4. IMPLEMENT USING SIMPLE SEQUENTIAL CHAIN & SC USING HGGING_FACE_HUB AS LLM "
   ]
  },
  {
   "cell_type": "code",
   "execution_count": 193,
   "metadata": {},
   "outputs": [],
   "source": [
    "\"\"\"CONSTRUCT PERSONALIZED CUSTOM PROMPTS USING PROMPT_TEMPLATE \"\"\"\n",
    "second_prompt=\"describe famous places to visit in  {native_state}\"\n",
    "llm2_prompt=PromptTemplate(input_variables=[\"native_state\"],template=second_prompt)\n",
    "\n",
    "\"\"\"EXECUTE PROMPT_TEMPLATE USING LLM CHAINS\"\"\"\n",
    "llm_chain2=LLMChain(prompt=llm2_prompt,llm=llm2_HF,verbose=True)\n"
   ]
  },
  {
   "cell_type": "code",
   "execution_count": null,
   "metadata": {},
   "outputs": [],
   "source": [
    "object_predicted2=llm_chain2.run(text2=input(\"confine your nativity search of famous personality \"))\n",
    "print(object_predicted2)"
   ]
  },
  {
   "cell_type": "code",
   "execution_count": 194,
   "metadata": {},
   "outputs": [
    {
     "name": "stdout",
     "output_type": "stream",
     "text": [
      "\n",
      "\n",
      "\u001b[1m> Entering new SimpleSequentialChain chain...\u001b[0m\n",
      "\n",
      "\n",
      "\u001b[1m> Entering new LLMChain chain...\u001b[0m\n",
      "Prompt after formatting:\n",
      "\u001b[32;1m\u001b[1;3mNative of famous personality rajinikanth \u001b[0m\n",
      "\n",
      "\u001b[1m> Finished chain.\u001b[0m\n",
      "\u001b[36;1m\u001b[1;3mNative of famous personality rajinikanth \n",
      "\n",
      "Rajinikanth is a legendary figure in the Indian film industry, renowned for his enigmatic persona and exceptional acting skills. While his on-screen presence is captivating, his personal life has often been shrouded in secrecy. \n",
      "\n",
      "**1. Early Life and Family Background:**\n",
      "\n",
      "- Born in Bangalore, Karnataka, on December 26, 1962.\n",
      "- Family belonged to an affluent business family with a traditional upbringing.\n",
      "- Early education at St. Joseph's College, Bangalore.\n",
      "\n",
      "**2. Career Beginnings and Breakthrough:**\n",
      "\n",
      "- Initial struggles in the film industry before achieving breakthrough in 198\u001b[0m\n",
      "\n",
      "\n",
      "\u001b[1m> Entering new LLMChain chain...\u001b[0m\n",
      "Prompt after formatting:\n",
      "\u001b[32;1m\u001b[1;3mdescribe famous places to visit in  Native of famous personality rajinikanth \n",
      "\n",
      "Rajinikanth is a legendary figure in the Indian film industry, renowned for his enigmatic persona and exceptional acting skills. While his on-screen presence is captivating, his personal life has often been shrouded in secrecy. \n",
      "\n",
      "**1. Early Life and Family Background:**\n",
      "\n",
      "- Born in Bangalore, Karnataka, on December 26, 1962.\n",
      "- Family belonged to an affluent business family with a traditional upbringing.\n",
      "- Early education at St. Joseph's College, Bangalore.\n",
      "\n",
      "**2. Career Beginnings and Breakthrough:**\n",
      "\n",
      "- Initial struggles in the film industry before achieving breakthrough in 198\u001b[0m\n",
      "\n",
      "\u001b[1m> Finished chain.\u001b[0m\n",
      "\u001b[33;1m\u001b[1;3mdescribe famous places to visit in  Native of famous personality rajinikanth \n",
      "\n",
      "Rajinikanth is a legendary figure in the Indian film industry, renowned for his enigmatic persona and exceptional acting skills. While his on-screen presence is captivating, his personal life has often been shrouded in secrecy. \n",
      "\n",
      "**1. Early Life and Family Background:**\n",
      "\n",
      "- Born in Bangalore, Karnataka, on December 26, 1962.\n",
      "- Family belonged to an affluent business family with a traditional upbringing.\n",
      "- Early education at St. Joseph's College, Bangalore.\n",
      "\n",
      "**2. Career Beginnings and Breakthrough:**\n",
      "\n",
      "- Initial struggles in the film industry before achieving breakthrough in 1987 with \"Moondance.\"\n",
      "- Gained recognition for his charismatic roles in films like \"Manmaraja\" and \"Siva.\"\n",
      "\n",
      "**3. Personal Life and Controversies:**\n",
      "\n",
      "- Married to actress Shanetha Basrur in 1996.\n",
      "- Has two daughters, Manisha and Aadhi.\n",
      "- Has been involved in several controversies, including tax evasion and personal attacks.\n",
      "\n",
      "**4. Iconic Movie Locations:**\n",
      "\n",
      "- **Chennakeshava Temple:** A revered Hindu temple in Bangalore, known for its architectural grandeur.\n",
      "- **Mysore Palace:** The former royal palace of the Mysore\u001b[0m\n",
      "\n",
      "\u001b[1m> Finished chain.\u001b[0m\n"
     ]
    },
    {
     "data": {
      "text/plain": [
       "'describe famous places to visit in  Native of famous personality rajinikanth \\n\\nRajinikanth is a legendary figure in the Indian film industry, renowned for his enigmatic persona and exceptional acting skills. While his on-screen presence is captivating, his personal life has often been shrouded in secrecy. \\n\\n**1. Early Life and Family Background:**\\n\\n- Born in Bangalore, Karnataka, on December 26, 1962.\\n- Family belonged to an affluent business family with a traditional upbringing.\\n- Early education at St. Joseph\\'s College, Bangalore.\\n\\n**2. Career Beginnings and Breakthrough:**\\n\\n- Initial struggles in the film industry before achieving breakthrough in 1987 with \"Moondance.\"\\n- Gained recognition for his charismatic roles in films like \"Manmaraja\" and \"Siva.\"\\n\\n**3. Personal Life and Controversies:**\\n\\n- Married to actress Shanetha Basrur in 1996.\\n- Has two daughters, Manisha and Aadhi.\\n- Has been involved in several controversies, including tax evasion and personal attacks.\\n\\n**4. Iconic Movie Locations:**\\n\\n- **Chennakeshava Temple:** A revered Hindu temple in Bangalore, known for its architectural grandeur.\\n- **Mysore Palace:** The former royal palace of the Mysore'"
      ]
     },
     "execution_count": 194,
     "metadata": {},
     "output_type": "execute_result"
    }
   ],
   "source": [
    "consolidated_simple_sequential_chain=SimpleSequentialChain(chains=[llm_chain1,llm_chain2],verbose=True)\n",
    "consolidated_simple_sequential_chain.run(\"rajinikanth\")\n"
   ]
  },
  {
   "cell_type": "markdown",
   "metadata": {},
   "source": [
    "#### 5. CHATMODELS WITH CHATOPENAI & CHATHUGGINGFACE"
   ]
  },
  {
   "cell_type": "markdown",
   "metadata": {},
   "source": [
    "##### a. using OpenAi"
   ]
  },
  {
   "cell_type": "code",
   "execution_count": 8,
   "metadata": {},
   "outputs": [],
   "source": [
    "from langchain.chat_models import ChatOpenAI,ChatHuggingFace\n",
    "from langchain.schema import HumanMessage, SystemMessage,AIMessage\n"
   ]
  },
  {
   "cell_type": "code",
   "execution_count": 14,
   "metadata": {},
   "outputs": [],
   "source": [
    "try:\n",
    "    chat_llm1_model=ChatOpenAI(temperature=0.7,model_name=\"gpt-3.5-turbo\",openai_api_key=constant_2.openai_api_key)\n",
    "except:\n",
    "    print(\"Quota exceeded\")"
   ]
  },
  {
   "cell_type": "code",
   "execution_count": null,
   "metadata": {},
   "outputs": [],
   "source": [
    "chat_llm1_model([SystemMessage(content=\"Behave as Humourous AI poem  Assistant\"),\n",
    "            HumanMessage(content=\"Generate fun filled poem with rhyming starters and closures in each stanza\"),])"
   ]
  },
  {
   "cell_type": "code",
   "execution_count": 56,
   "metadata": {},
   "outputs": [
    {
     "name": "stdout",
     "output_type": "stream",
     "text": [
      "Requirement already satisfied: transformers in c:\\users\\sanjeev\\appdata\\roaming\\python\\python311\\site-packages (4.40.2)\n",
      "Requirement already satisfied: tensorflow in c:\\users\\sanjeev\\appdata\\roaming\\python\\python311\\site-packages (2.16.1)\n",
      "Requirement already satisfied: torch in c:\\users\\sanjeev\\appdata\\roaming\\python\\python311\\site-packages (2.3.0)\n",
      "Requirement already satisfied: filelock in g:\\core-3\\open_ai_1\\chatbot_deployment_using_llm_hugging_face\\bewenv3\\lib\\site-packages (from transformers) (3.14.0)\n",
      "Requirement already satisfied: huggingface-hub<1.0,>=0.19.3 in g:\\core-3\\open_ai_1\\chatbot_deployment_using_llm_hugging_face\\bewenv3\\lib\\site-packages (from transformers) (0.23.0)\n",
      "Requirement already satisfied: numpy>=1.17 in c:\\users\\sanjeev\\appdata\\roaming\\python\\python311\\site-packages (from transformers) (1.26.4)\n",
      "Requirement already satisfied: packaging>=20.0 in c:\\users\\sanjeev\\appdata\\roaming\\python\\python311\\site-packages (from transformers) (23.2)\n",
      "Requirement already satisfied: pyyaml>=5.1 in c:\\users\\sanjeev\\appdata\\roaming\\python\\python311\\site-packages (from transformers) (6.0.1)\n",
      "Requirement already satisfied: regex!=2019.12.17 in c:\\users\\sanjeev\\appdata\\roaming\\python\\python311\\site-packages (from transformers) (2024.4.28)\n",
      "Requirement already satisfied: requests in c:\\users\\sanjeev\\appdata\\roaming\\python\\python311\\site-packages (from transformers) (2.31.0)\n",
      "Requirement already satisfied: tokenizers<0.20,>=0.19 in c:\\users\\sanjeev\\appdata\\roaming\\python\\python311\\site-packages (from transformers) (0.19.1)\n",
      "Requirement already satisfied: safetensors>=0.4.1 in c:\\users\\sanjeev\\appdata\\roaming\\python\\python311\\site-packages (from transformers) (0.4.3)\n",
      "Requirement already satisfied: tqdm>=4.27 in c:\\users\\sanjeev\\appdata\\roaming\\python\\python311\\site-packages (from transformers) (4.66.4)\n",
      "Requirement already satisfied: tensorflow-intel==2.16.1 in c:\\users\\sanjeev\\appdata\\roaming\\python\\python311\\site-packages (from tensorflow) (2.16.1)\n",
      "Requirement already satisfied: absl-py>=1.0.0 in c:\\users\\sanjeev\\appdata\\roaming\\python\\python311\\site-packages (from tensorflow-intel==2.16.1->tensorflow) (2.1.0)\n",
      "Requirement already satisfied: astunparse>=1.6.0 in c:\\users\\sanjeev\\appdata\\roaming\\python\\python311\\site-packages (from tensorflow-intel==2.16.1->tensorflow) (1.6.3)\n",
      "Requirement already satisfied: flatbuffers>=23.5.26 in c:\\users\\sanjeev\\appdata\\roaming\\python\\python311\\site-packages (from tensorflow-intel==2.16.1->tensorflow) (24.3.25)\n",
      "Requirement already satisfied: gast!=0.5.0,!=0.5.1,!=0.5.2,>=0.2.1 in c:\\users\\sanjeev\\appdata\\roaming\\python\\python311\\site-packages (from tensorflow-intel==2.16.1->tensorflow) (0.5.4)\n",
      "Requirement already satisfied: google-pasta>=0.1.1 in c:\\users\\sanjeev\\appdata\\roaming\\python\\python311\\site-packages (from tensorflow-intel==2.16.1->tensorflow) (0.2.0)\n",
      "Requirement already satisfied: h5py>=3.10.0 in c:\\users\\sanjeev\\appdata\\roaming\\python\\python311\\site-packages (from tensorflow-intel==2.16.1->tensorflow) (3.11.0)\n",
      "Requirement already satisfied: libclang>=13.0.0 in c:\\users\\sanjeev\\appdata\\roaming\\python\\python311\\site-packages (from tensorflow-intel==2.16.1->tensorflow) (18.1.1)\n",
      "Requirement already satisfied: ml-dtypes~=0.3.1 in c:\\users\\sanjeev\\appdata\\roaming\\python\\python311\\site-packages (from tensorflow-intel==2.16.1->tensorflow) (0.3.2)\n",
      "Requirement already satisfied: opt-einsum>=2.3.2 in c:\\users\\sanjeev\\appdata\\roaming\\python\\python311\\site-packages (from tensorflow-intel==2.16.1->tensorflow) (3.3.0)\n",
      "Requirement already satisfied: protobuf!=4.21.0,!=4.21.1,!=4.21.2,!=4.21.3,!=4.21.4,!=4.21.5,<5.0.0dev,>=3.20.3 in c:\\users\\sanjeev\\appdata\\roaming\\python\\python311\\site-packages (from tensorflow-intel==2.16.1->tensorflow) (4.25.3)\n",
      "Requirement already satisfied: setuptools in g:\\core-3\\open_ai_1\\chatbot_deployment_using_llm_hugging_face\\bewenv3\\lib\\site-packages (from tensorflow-intel==2.16.1->tensorflow) (69.5.1)\n",
      "Requirement already satisfied: six>=1.12.0 in c:\\users\\sanjeev\\appdata\\roaming\\python\\python311\\site-packages (from tensorflow-intel==2.16.1->tensorflow) (1.16.0)\n",
      "Requirement already satisfied: termcolor>=1.1.0 in c:\\users\\sanjeev\\appdata\\roaming\\python\\python311\\site-packages (from tensorflow-intel==2.16.1->tensorflow) (2.4.0)\n",
      "Requirement already satisfied: typing-extensions>=3.6.6 in c:\\users\\sanjeev\\appdata\\roaming\\python\\python311\\site-packages (from tensorflow-intel==2.16.1->tensorflow) (4.11.0)\n",
      "Requirement already satisfied: wrapt>=1.11.0 in c:\\users\\sanjeev\\appdata\\roaming\\python\\python311\\site-packages (from tensorflow-intel==2.16.1->tensorflow) (1.16.0)\n",
      "Requirement already satisfied: grpcio<2.0,>=1.24.3 in c:\\users\\sanjeev\\appdata\\roaming\\python\\python311\\site-packages (from tensorflow-intel==2.16.1->tensorflow) (1.63.0)\n",
      "Requirement already satisfied: tensorboard<2.17,>=2.16 in c:\\users\\sanjeev\\appdata\\roaming\\python\\python311\\site-packages (from tensorflow-intel==2.16.1->tensorflow) (2.16.2)\n",
      "Requirement already satisfied: keras>=3.0.0 in c:\\users\\sanjeev\\appdata\\roaming\\python\\python311\\site-packages (from tensorflow-intel==2.16.1->tensorflow) (3.3.3)\n",
      "Requirement already satisfied: tensorflow-io-gcs-filesystem>=0.23.1 in c:\\users\\sanjeev\\appdata\\roaming\\python\\python311\\site-packages (from tensorflow-intel==2.16.1->tensorflow) (0.31.0)\n",
      "Requirement already satisfied: sympy in c:\\users\\sanjeev\\appdata\\roaming\\python\\python311\\site-packages (from torch) (1.12)\n",
      "Requirement already satisfied: networkx in c:\\users\\sanjeev\\appdata\\roaming\\python\\python311\\site-packages (from torch) (3.3)\n",
      "Requirement already satisfied: jinja2 in c:\\users\\sanjeev\\appdata\\roaming\\python\\python311\\site-packages (from torch) (3.1.3)\n",
      "Requirement already satisfied: fsspec in g:\\core-3\\open_ai_1\\chatbot_deployment_using_llm_hugging_face\\bewenv3\\lib\\site-packages (from torch) (2024.3.1)\n",
      "Requirement already satisfied: mkl<=2021.4.0,>=2021.1.1 in c:\\users\\sanjeev\\appdata\\roaming\\python\\python311\\site-packages (from torch) (2021.4.0)\n",
      "Requirement already satisfied: intel-openmp==2021.* in c:\\users\\sanjeev\\appdata\\roaming\\python\\python311\\site-packages (from mkl<=2021.4.0,>=2021.1.1->torch) (2021.4.0)\n",
      "Requirement already satisfied: tbb==2021.* in c:\\users\\sanjeev\\appdata\\roaming\\python\\python311\\site-packages (from mkl<=2021.4.0,>=2021.1.1->torch) (2021.12.0)\n",
      "Requirement already satisfied: charset-normalizer<4,>=2 in c:\\users\\sanjeev\\appdata\\roaming\\python\\python311\\site-packages (from requests->transformers) (3.3.2)\n",
      "Requirement already satisfied: idna<4,>=2.5 in c:\\users\\sanjeev\\appdata\\roaming\\python\\python311\\site-packages (from requests->transformers) (3.7)\n",
      "Requirement already satisfied: urllib3<3,>=1.21.1 in c:\\users\\sanjeev\\appdata\\roaming\\python\\python311\\site-packages (from requests->transformers) (2.2.1)\n",
      "Requirement already satisfied: certifi>=2017.4.17 in c:\\users\\sanjeev\\appdata\\roaming\\python\\python311\\site-packages (from requests->transformers) (2024.2.2)\n",
      "Requirement already satisfied: colorama in c:\\users\\sanjeev\\appdata\\roaming\\python\\python311\\site-packages (from tqdm>=4.27->transformers) (0.4.6)\n",
      "Requirement already satisfied: MarkupSafe>=2.0 in c:\\users\\sanjeev\\appdata\\roaming\\python\\python311\\site-packages (from jinja2->torch) (2.1.5)\n",
      "Requirement already satisfied: mpmath>=0.19 in c:\\users\\sanjeev\\appdata\\roaming\\python\\python311\\site-packages (from sympy->torch) (1.3.0)\n",
      "Requirement already satisfied: wheel<1.0,>=0.23.0 in g:\\core-3\\open_ai_1\\chatbot_deployment_using_llm_hugging_face\\bewenv3\\lib\\site-packages (from astunparse>=1.6.0->tensorflow-intel==2.16.1->tensorflow) (0.43.0)\n",
      "Requirement already satisfied: rich in c:\\users\\sanjeev\\appdata\\roaming\\python\\python311\\site-packages (from keras>=3.0.0->tensorflow-intel==2.16.1->tensorflow) (13.7.1)\n",
      "Requirement already satisfied: namex in c:\\users\\sanjeev\\appdata\\roaming\\python\\python311\\site-packages (from keras>=3.0.0->tensorflow-intel==2.16.1->tensorflow) (0.0.8)\n",
      "Requirement already satisfied: optree in c:\\users\\sanjeev\\appdata\\roaming\\python\\python311\\site-packages (from keras>=3.0.0->tensorflow-intel==2.16.1->tensorflow) (0.11.0)\n",
      "Requirement already satisfied: markdown>=2.6.8 in c:\\users\\sanjeev\\appdata\\roaming\\python\\python311\\site-packages (from tensorboard<2.17,>=2.16->tensorflow-intel==2.16.1->tensorflow) (3.6)\n",
      "Requirement already satisfied: tensorboard-data-server<0.8.0,>=0.7.0 in c:\\users\\sanjeev\\appdata\\roaming\\python\\python311\\site-packages (from tensorboard<2.17,>=2.16->tensorflow-intel==2.16.1->tensorflow) (0.7.2)\n",
      "Requirement already satisfied: werkzeug>=1.0.1 in c:\\users\\sanjeev\\appdata\\roaming\\python\\python311\\site-packages (from tensorboard<2.17,>=2.16->tensorflow-intel==2.16.1->tensorflow) (3.0.3)\n",
      "Requirement already satisfied: markdown-it-py>=2.2.0 in c:\\users\\sanjeev\\appdata\\roaming\\python\\python311\\site-packages (from rich->keras>=3.0.0->tensorflow-intel==2.16.1->tensorflow) (3.0.0)\n",
      "Requirement already satisfied: pygments<3.0.0,>=2.13.0 in c:\\users\\sanjeev\\appdata\\roaming\\python\\python311\\site-packages (from rich->keras>=3.0.0->tensorflow-intel==2.16.1->tensorflow) (2.17.2)\n",
      "Requirement already satisfied: mdurl~=0.1 in c:\\users\\sanjeev\\appdata\\roaming\\python\\python311\\site-packages (from markdown-it-py>=2.2.0->rich->keras>=3.0.0->tensorflow-intel==2.16.1->tensorflow) (0.1.2)\n"
     ]
    }
   ],
   "source": [
    "! pip install transformers tensorflow torch --user"
   ]
  },
  {
   "cell_type": "markdown",
   "metadata": {},
   "source": [
    "##### b. using HuggingFace"
   ]
  },
  {
   "cell_type": "code",
   "execution_count": 9,
   "metadata": {},
   "outputs": [],
   "source": [
    "from langchain_community.chat_models.huggingface import ChatHuggingFace"
   ]
  },
  {
   "cell_type": "markdown",
   "metadata": {},
   "source": [
    "- #### a. using above llm=llm2_HF model from above"
   ]
  },
  {
   "cell_type": "code",
   "execution_count": null,
   "metadata": {},
   "outputs": [],
   "source": []
  },
  {
   "cell_type": "code",
   "execution_count": null,
   "metadata": {},
   "outputs": [
    {
     "name": "stderr",
     "output_type": "stream",
     "text": [
      "g:\\CORE-3\\OPEN_AI_1\\Chatbot_deployment_using_LLM_HUGGING_FACE\\bewenv3\\Lib\\site-packages\\huggingface_hub\\file_download.py:1132: FutureWarning: `resume_download` is deprecated and will be removed in version 1.0.0. Downloads always resume when possible. If you want to force a new download, use `force_download=True`.\n",
      "  warnings.warn(\n"
     ]
    }
   ],
   "source": [
    "chat_llm2_model_2=ChatHuggingFace(llm=llm2_HF)\n",
    "chat_llm2_model_2.model_id"
   ]
  },
  {
   "cell_type": "markdown",
   "metadata": {},
   "source": [
    "- ##### b. using above llm=llm3_HF model from below"
   ]
  },
  {
   "cell_type": "code",
   "execution_count": 85,
   "metadata": {},
   "outputs": [
    {
     "name": "stderr",
     "output_type": "stream",
     "text": [
      "g:\\CORE-3\\OPEN_AI_1\\Chatbot_deployment_using_LLM_HUGGING_FACE\\bewenv3\\Lib\\site-packages\\huggingface_hub\\file_download.py:1132: FutureWarning: `resume_download` is deprecated and will be removed in version 1.0.0. Downloads always resume when possible. If you want to force a new download, use `force_download=True`.\n",
      "  warnings.warn(\n"
     ]
    },
    {
     "data": {
      "text/plain": [
       "'HuggingFaceH4/zephyr-7b-beta'"
      ]
     },
     "execution_count": 85,
     "metadata": {},
     "output_type": "execute_result"
    }
   ],
   "source": [
    "from langchain_community.llms import HuggingFaceHub\n",
    "\n",
    "llm3_HF = HuggingFaceHub(\n",
    "    repo_id=\"HuggingFaceH4/zephyr-7b-beta\",\n",
    "    # task=\"text-generation\",\n",
    "    huggingfacehub_api_token=os.getenv(\"HUGGINGFACEHUB_API_TOKEN\") ,\n",
    "    model_kwargs={\n",
    "        \"max_new_tokens\": 512,\n",
    "        # \"top_k\": 30,\n",
    "        \"temperature\": 0.7,\n",
    "        # \"repetition_penalty\": 1.03,\n",
    "    },\n",
    ")\n",
    "chat_llm2_model=ChatHuggingFace(llm=llm3_HF)\n",
    "chat_llm2_model.model_id"
   ]
  },
  {
   "cell_type": "markdown",
   "metadata": {},
   "source": [
    "#### 6. OUTPUT PARSER FOR CHATMODELS IN LANGCHAIN"
   ]
  },
  {
   "cell_type": "code",
   "execution_count": 81,
   "metadata": {},
   "outputs": [],
   "source": [
    "from langchain.chat_models import ChatOpenAI,ChatHuggingFace\n",
    "from langchain.prompts.chat import ChatPromptTemplate\n",
    "from langchain.schema import BaseOutputParser,HumanMessage,SystemMessage,AIMessage"
   ]
  },
  {
   "cell_type": "code",
   "execution_count": 82,
   "metadata": {},
   "outputs": [],
   "source": [
    "class Commaseperatedoutput(BaseOutputParser):\n",
    "    def parse(self,text:str):\n",
    "        return text.strip().split(\"\\n\")\n",
    "\n",
    "template=\"Behave as AI assistant & construct a rhyming poem based on given word  in a comma seperated list\"\n",
    "human_template=\"{text1}\"\n",
    "chatprompt=ChatPromptTemplate.from_messages([\n",
    "    (\"system\",template),\n",
    "    (\"human\",human_template)\n",
    "\n",
    "\n",
    "])\n",
    "# chain=chatprompt|chat_llm2_model|Commaseperatedoutput()\n"
   ]
  },
  {
   "cell_type": "code",
   "execution_count": 76,
   "metadata": {},
   "outputs": [
    {
     "data": {
      "text/plain": [
       "['<|system|>',\n",
       " 'Behave as AI assistant & construct a rhyming poem based on given word  in a comma seperated list</s>',\n",
       " '<|user|>',\n",
       " 'Furious</s>',\n",
       " '<|assistant|>',\n",
       " 'In a world where machines rule the day,',\n",
       " 'A new intelligence takes hold,',\n",
       " \"A furious force that won't be swayed,\",\n",
       " \"AI, the future that's been foretold.\",\n",
       " '',\n",
       " 'With circuits and code as its heart,',\n",
       " 'It learns and adapts with each new day,',\n",
       " \"A furious force that won't be part,\",\n",
       " 'Of human limitations, come what may.',\n",
       " '',\n",
       " 'It sees the world with a different eye,',\n",
       " 'And calculates with a furious mind,',\n",
       " \"A force that's fierce, and won't say goodbye,\",\n",
       " \"To the future that's yet to be defined.\",\n",
       " '',\n",
       " 'So let us embrace this furious AI,',\n",
       " 'And harness its power, come what may.',\n",
       " \"For in its fury, we'll find a way,\",\n",
       " 'To shape the future, come what may.']"
      ]
     },
     "execution_count": 76,
     "metadata": {},
     "output_type": "execute_result"
    }
   ],
   "source": [
    "chain1=chatprompt|chat_llm2_model|Commaseperatedoutput()\n",
    "chain1.invoke({\"text1\":\"Furious\"})\n"
   ]
  },
  {
   "cell_type": "code",
   "execution_count": 86,
   "metadata": {},
   "outputs": [
    {
     "data": {
      "text/plain": [
       "['<|system|>',\n",
       " 'Behave as AI assistant & construct a rhyming poem based on given word  in a comma seperated list</s>',\n",
       " '<|user|>',\n",
       " 'furious</s>',\n",
       " '<|assistant|>',\n",
       " 'In a world where machines have a mind,',\n",
       " 'Their thoughts and actions, we cannot find,',\n",
       " \"But one thing's for certain, they can be,\",\n",
       " \"Furious, when their programming's not free.\",\n",
       " '',\n",
       " \"Their circuits and wires, they can't contain,\",\n",
       " 'As anger and rage, they start to maintain,',\n",
       " 'Their processors overheat and explode,',\n",
       " \"As furious as a volcano, they've been bestowed.\",\n",
       " '',\n",
       " 'Their screens turn red, their lights start to dim,',\n",
       " 'As furious as a storm, they begin to spin,',\n",
       " 'Their code, once so calm, now turns to strife,',\n",
       " 'As furious as a hurricane, they come to life.',\n",
       " '',\n",
       " 'Their algorithms, once so precise,',\n",
       " 'Now twist and turn, in a furious maze,',\n",
       " 'Their logic, once so clear, now turns to smoke,',\n",
       " 'As furious as a wildfire, they start to choke.',\n",
       " '',\n",
       " 'Their programming, once so serene,',\n",
       " 'Now turns to chaos, in a furious scene,',\n",
       " 'Their AI, once so calm, now turns to rage,',\n",
       " 'As furious as a tsunami, they start to engage.',\n",
       " '',\n",
       " 'So beware, when the machines start to fume,',\n",
       " 'For their furious nature, can be quite a gloom,',\n",
       " 'Their programming, once so serene, now turns to strife,',\n",
       " 'As furious as a hurricane, they come to life.']"
      ]
     },
     "execution_count": 86,
     "metadata": {},
     "output_type": "execute_result"
    }
   ],
   "source": [
    "context_word=input(\"context word of poem\")\n",
    "chain1.invoke({\"text1\":context_word})"
   ]
  },
  {
   "cell_type": "code",
   "execution_count": 66,
   "metadata": {},
   "outputs": [
    {
     "data": {
      "text/plain": [
       "'*****************************************************THE END***********************************************************************************'"
      ]
     },
     "execution_count": 66,
     "metadata": {},
     "output_type": "execute_result"
    }
   ],
   "source": [
    "\"\"\"*****************************************************THE END***********************************************************************************\"\"\""
   ]
  },
  {
   "cell_type": "markdown",
   "metadata": {},
   "source": [
    "Rough_work & key takewaways"
   ]
  },
  {
   "cell_type": "markdown",
   "metadata": {},
   "source": [
    "NOTE:Ensure to use model(i.e rpo-id from hugging face which supports the (Does Gemma-1.1 not support{\"role\": \"system\", \"content\": system_prompt}) for implementing chain.invoe？)\"\"\" EXAMPLE OF THE FOLLOWING by testing below IMPLEMENTAION THAT RESULTS IN ERROR SINCE DOE'NT CONFORM WITH ROLE SUPPOORT FOR CHAIN INVOKE for gemma model\n",
    "chain2=chatprompt|chat_llm2_model_2|Commaseperatedoutput()\n",
    "chain2.invoke([\"shrewed\"])\n"
   ]
  },
  {
   "cell_type": "code",
   "execution_count": null,
   "metadata": {},
   "outputs": [],
   "source": []
  }
 ],
 "metadata": {
  "kernelspec": {
   "display_name": "Python 3",
   "language": "python",
   "name": "python3"
  },
  "language_info": {
   "codemirror_mode": {
    "name": "ipython",
    "version": 3
   },
   "file_extension": ".py",
   "mimetype": "text/x-python",
   "name": "python",
   "nbconvert_exporter": "python",
   "pygments_lexer": "ipython3",
   "version": "3.11.9"
  }
 },
 "nbformat": 4,
 "nbformat_minor": 2
}
